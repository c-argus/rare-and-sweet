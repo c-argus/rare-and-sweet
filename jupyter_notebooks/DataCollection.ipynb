{
  "cells": [
    {
      "cell_type": "markdown",
      "metadata": {
        "id": "0aStgWSO0E0E"
      },
      "source": [
        "# **DATA COLLECTION**"
      ]
    },
    {
      "cell_type": "markdown",
      "metadata": {
        "id": "1eLEkw5O0ECa"
      },
      "source": [
        "## Objectives\n",
        "\n",
        "* Fetch data from Kaggle and prepare it for further processes\n",
        "\n",
        "## Inputs\n",
        "\n",
        "* Kaggle JSON file - authentication token \n",
        "\n",
        "## Outputs\n",
        "\n",
        "* Generate Dataset: datasets/codeinstitute/cherry-leaves\n",
        "\n",
        "## Additional Comments\n",
        "\n",
        "* No comments \n",
        "\n"
      ]
    },
    {
      "cell_type": "markdown",
      "metadata": {
        "id": "9uWZXH9LwoQg"
      },
      "source": [
        "---"
      ]
    },
    {
      "cell_type": "markdown",
      "metadata": {
        "id": "cqP-UeN-z3i2"
      },
      "source": [
        "# Import packages\n"
      ]
    },
    {
      "cell_type": "code",
      "execution_count": 5,
      "metadata": {},
      "outputs": [],
      "source": [
        "import numpy\n",
        "import os"
      ]
    },
    {
      "cell_type": "markdown",
      "metadata": {},
      "source": [
        "# Change working directory"
      ]
    },
    {
      "cell_type": "code",
      "execution_count": 1,
      "metadata": {
        "id": "wZfF_j-Bz3i4",
        "outputId": "66943449-1436-4c3d-85c7-b85f9f78349b"
      },
      "outputs": [
        {
          "data": {
            "text/plain": [
              "'/workspace/rare-and-sweet/jupyter_notebooks'"
            ]
          },
          "execution_count": 1,
          "metadata": {},
          "output_type": "execute_result"
        }
      ],
      "source": [
        "import os\n",
        "current_dir = os.getcwd()\n",
        "current_dir"
      ]
    },
    {
      "cell_type": "code",
      "execution_count": 2,
      "metadata": {
        "id": "TwHsQRWjz3i9",
        "outputId": "86849db3-cd2f-4cc5-ebb8-2d0caafa1a2c"
      },
      "outputs": [
        {
          "name": "stdout",
          "output_type": "stream",
          "text": [
            "You set a new current directory\n"
          ]
        }
      ],
      "source": [
        "os.chdir(os.path.dirname(current_dir))\n",
        "print(\"You set a new current directory\")"
      ]
    },
    {
      "cell_type": "code",
      "execution_count": 3,
      "metadata": {
        "id": "vz3S-_kjz3jA",
        "outputId": "00b79ae4-75d0-4a96-d193-ac9ef9847ea2"
      },
      "outputs": [
        {
          "data": {
            "text/plain": [
              "'/workspace/rare-and-sweet'"
            ]
          },
          "execution_count": 3,
          "metadata": {},
          "output_type": "execute_result"
        }
      ],
      "source": [
        "current_dir = os.getcwd()\n",
        "current_dir"
      ]
    },
    {
      "cell_type": "markdown",
      "metadata": {},
      "source": [
        "---"
      ]
    },
    {
      "cell_type": "markdown",
      "metadata": {
        "id": "-mavJ8DibrcQ"
      },
      "source": [
        "# Section 1"
      ]
    },
    {
      "cell_type": "markdown",
      "metadata": {},
      "source": [
        "## Install Kaggle"
      ]
    },
    {
      "cell_type": "code",
      "execution_count": 4,
      "metadata": {},
      "outputs": [
        {
          "name": "stderr",
          "output_type": "stream",
          "text": [
            "154.08s - pydevd: Sending message related to process being replaced timed-out after 5 seconds\n"
          ]
        },
        {
          "name": "stdout",
          "output_type": "stream",
          "text": [
            "Collecting kaggle\n",
            "  Downloading kaggle-1.6.17.tar.gz (82 kB)\n",
            "  Preparing metadata (setup.py) ... \u001b[?25ldone\n",
            "\u001b[?25hRequirement already satisfied: six>=1.10 in /workspace/.pip-modules/lib/python3.8/site-packages (from kaggle) (1.15.0)\n",
            "Requirement already satisfied: certifi>=2023.7.22 in /home/gitpod/.pyenv/versions/3.8.18/lib/python3.8/site-packages (from kaggle) (2024.7.4)\n",
            "Requirement already satisfied: python-dateutil in /home/gitpod/.pyenv/versions/3.8.18/lib/python3.8/site-packages (from kaggle) (2.9.0.post0)\n",
            "Requirement already satisfied: requests in /home/gitpod/.pyenv/versions/3.8.18/lib/python3.8/site-packages (from kaggle) (2.32.3)\n",
            "Collecting tqdm (from kaggle)\n",
            "  Downloading tqdm-4.66.5-py3-none-any.whl.metadata (57 kB)\n",
            "Collecting python-slugify (from kaggle)\n",
            "  Downloading python_slugify-8.0.4-py2.py3-none-any.whl.metadata (8.5 kB)\n",
            "Requirement already satisfied: urllib3 in /home/gitpod/.pyenv/versions/3.8.18/lib/python3.8/site-packages (from kaggle) (2.2.2)\n",
            "Requirement already satisfied: bleach in /home/gitpod/.pyenv/versions/3.8.18/lib/python3.8/site-packages (from kaggle) (6.1.0)\n",
            "Requirement already satisfied: webencodings in /home/gitpod/.pyenv/versions/3.8.18/lib/python3.8/site-packages (from bleach->kaggle) (0.5.1)\n",
            "Collecting text-unidecode>=1.3 (from python-slugify->kaggle)\n",
            "  Downloading text_unidecode-1.3-py2.py3-none-any.whl.metadata (2.4 kB)\n",
            "Requirement already satisfied: charset-normalizer<4,>=2 in /home/gitpod/.pyenv/versions/3.8.18/lib/python3.8/site-packages (from requests->kaggle) (3.3.2)\n",
            "Requirement already satisfied: idna<4,>=2.5 in /home/gitpod/.pyenv/versions/3.8.18/lib/python3.8/site-packages (from requests->kaggle) (3.7)\n",
            "Downloading python_slugify-8.0.4-py2.py3-none-any.whl (10 kB)\n",
            "Downloading tqdm-4.66.5-py3-none-any.whl (78 kB)\n",
            "Downloading text_unidecode-1.3-py2.py3-none-any.whl (78 kB)\n",
            "Building wheels for collected packages: kaggle\n",
            "  Building wheel for kaggle (setup.py) ... \u001b[?25ldone\n",
            "\u001b[?25h  Created wheel for kaggle: filename=kaggle-1.6.17-py3-none-any.whl size=105786 sha256=100aeebb4e94fbfd0caf9d9af3da69223fdc0afcd025fb3521746e1b32944e6c\n",
            "  Stored in directory: /home/gitpod/.cache/pip/wheels/a5/6f/7b/837915771e94e181fa3052822926444e34f725ca38e70be77e\n",
            "Successfully built kaggle\n",
            "Installing collected packages: text-unidecode, tqdm, python-slugify, kaggle\n",
            "Successfully installed kaggle-1.6.17 python-slugify-8.0.4 text-unidecode-1.3 tqdm-4.66.5\n"
          ]
        }
      ],
      "source": [
        "# install kaggle package\n",
        "%pip install kaggle"
      ]
    },
    {
      "cell_type": "markdown",
      "metadata": {},
      "source": [
        "Run the cell below **to change kaggle configuration directory to current working directory and permission of kaggle authentication json**"
      ]
    },
    {
      "cell_type": "code",
      "execution_count": 8,
      "metadata": {},
      "outputs": [
        {
          "name": "stderr",
          "output_type": "stream",
          "text": [
            "734.75s - pydevd: Sending message related to process being replaced timed-out after 5 seconds\n"
          ]
        }
      ],
      "source": [
        "os.environ['KAGGLE_CONFIG_DIR'] = os.getcwd()\n",
        "! chmod 600 kaggle.json"
      ]
    },
    {
      "cell_type": "markdown",
      "metadata": {},
      "source": [
        "---"
      ]
    },
    {
      "cell_type": "markdown",
      "metadata": {
        "id": "uFQo3ycuO-v6"
      },
      "source": [
        "# Section 2"
      ]
    },
    {
      "cell_type": "markdown",
      "metadata": {},
      "source": [
        "## Set Kaggle Dataset and Download it"
      ]
    },
    {
      "cell_type": "code",
      "execution_count": 10,
      "metadata": {},
      "outputs": [
        {
          "name": "stderr",
          "output_type": "stream",
          "text": [
            "1141.38s - pydevd: Sending message related to process being replaced timed-out after 5 seconds\n"
          ]
        },
        {
          "name": "stdout",
          "output_type": "stream",
          "text": [
            "Dataset URL: https://www.kaggle.com/datasets/codeinstitute/cherry-leaves\n",
            "License(s): unknown\n",
            "Downloading cherry-leaves.zip to inputs/cherry-leaves_dataset\n",
            " 95%|███████████████████████████████████▉  | 52.0M/55.0M [00:02<00:00, 25.0MB/s]\n",
            "100%|██████████████████████████████████████| 55.0M/55.0M [00:02<00:00, 20.8MB/s]\n"
          ]
        }
      ],
      "source": [
        "KaggleDatasetPath = \"codeinstitute/cherry-leaves\"\n",
        "DestinationFolder = \"inputs/cherry-leaves_dataset\"\n",
        "\n",
        "!kaggle datasets download -d {KaggleDatasetPath} -p {DestinationFolder}\n"
      ]
    },
    {
      "cell_type": "markdown",
      "metadata": {},
      "source": [
        "## Unzip the downloaded file, delete the zip file"
      ]
    },
    {
      "cell_type": "code",
      "execution_count": 11,
      "metadata": {},
      "outputs": [],
      "source": [
        "import zipfile\n",
        "with zipfile.ZipFile(DestinationFolder + '/cherry-leaves.zip', 'r') as zip_ref:\n",
        "    zip_ref.extractall(DestinationFolder)\n",
        "\n",
        "os.remove(DestinationFolder + '/cherry-leaves.zip')"
      ]
    },
    {
      "cell_type": "markdown",
      "metadata": {},
      "source": [
        "---"
      ]
    },
    {
      "cell_type": "markdown",
      "metadata": {},
      "source": [
        "# Section 3"
      ]
    },
    {
      "cell_type": "markdown",
      "metadata": {},
      "source": [
        "## Data Preparation"
      ]
    },
    {
      "cell_type": "markdown",
      "metadata": {},
      "source": [
        "### Data Cleaning"
      ]
    },
    {
      "cell_type": "markdown",
      "metadata": {},
      "source": [
        "### Check and remove non images files"
      ]
    },
    {
      "cell_type": "code",
      "execution_count": 11,
      "metadata": {},
      "outputs": [],
      "source": [
        "def remove_non_image_file(my_data_dir):\n",
        "    image_extensions = ('.png', '.jpg', '.jpeg')\n",
        "    \n",
        "    # List all items in the root directory\n",
        "    items = os.listdir(my_data_dir)\n",
        "    \n",
        "    for item in items:\n",
        "        folder_path = os.path.join(my_data_dir, item)\n",
        "        \n",
        "        # Ensure the item is a directory\n",
        "        if os.path.isdir(folder_path):\n",
        "            files = os.listdir(folder_path)\n",
        "            \n",
        "            image_count = 0\n",
        "            non_image_count = 0\n",
        "            \n",
        "            for given_file in files:\n",
        "                file_path = os.path.join(folder_path, given_file)\n",
        "                \n",
        "                # Check if the file has a valid image extension\n",
        "                if not given_file.lower().endswith(image_extensions):\n",
        "                    try:\n",
        "                        os.remove(file_path)  # Remove non-image file\n",
        "                        non_image_count += 1\n",
        "                    except Exception as e:\n",
        "                        print(f\"Error removing file {file_path}: {e}\")\n",
        "                else:\n",
        "                    image_count += 1\n",
        "            \n",
        "            print(f\"Folder: {item} - contains {image_count} image file(s)\")\n",
        "            print(f\"Folder: {item} - contains {non_image_count} non-image file(s)\")"
      ]
    },
    {
      "cell_type": "code",
      "execution_count": 12,
      "metadata": {},
      "outputs": [
        {
          "name": "stdout",
          "output_type": "stream",
          "text": [
            "Folder: healthy - contains 2104 image file(s)\n",
            "Folder: healthy - contains 0 non-image file(s)\n",
            "Folder: powdery_mildew - contains 2104 image file(s)\n",
            "Folder: powdery_mildew - contains 0 non-image file(s)\n"
          ]
        }
      ],
      "source": [
        "my_data_dir = '/workspace/rare-and-sweet/inputs/cherry-leaves_dataset/cherry-leaves'\n",
        "\n",
        "# Run the function to remove non-image files\n",
        "remove_non_image_file(my_data_dir)"
      ]
    },
    {
      "cell_type": "markdown",
      "metadata": {},
      "source": [
        "### Split train validation test set"
      ]
    },
    {
      "cell_type": "code",
      "execution_count": 13,
      "metadata": {},
      "outputs": [],
      "source": [
        "import os\n",
        "import shutil\n",
        "import random\n",
        "import joblib\n",
        "\n",
        "def split_train_validation_test_images(my_data_dir, train_set_ratio, validation_set_ratio, test_set_ratio):\n",
        "  \n",
        "    if train_set_ratio + validation_set_ratio + test_set_ratio != 1.0:\n",
        "        print(\"train_set_ratio + validation_set_ratio + test_set_ratio should sum to 1.0\")\n",
        "        return\n",
        "\n",
        "    # gets classes labels\n",
        "    labels = os.listdir(my_data_dir)\n",
        "    \n",
        "    if 'test' in labels:\n",
        "        pass\n",
        "    else: \n",
        "        # create train, test folders with class labels sub-folder\n",
        "        for folder in ['train','validation','test']:\n",
        "            for label in labels:\n",
        "                os.makedirs(os.path.join(my_data_dir, folder, label), exist_ok=True)\n",
        "\n",
        "        for label in labels:\n",
        "            label_dir = os.path.join(my_data_dir, label)\n",
        "            files = os.listdir(label_dir)\n",
        "            random.shuffle(files)\n",
        "\n",
        "            train_set_files_qty = int(len(files) * train_set_ratio)\n",
        "            validation_set_files_qty = int(len(files) * validation_set_ratio)\n",
        "\n",
        "            count = 1\n",
        "            for file_name in files:\n",
        "                src_path = os.path.join(label_dir, file_name)\n",
        "\n",
        "                if count <= train_set_files_qty:\n",
        "                    # move given file to train set\n",
        "                    dst_path = os.path.join(my_data_dir, 'train', label, file_name)\n",
        "                    shutil.move(src_path, dst_path)\n",
        "                elif count <= (train_set_files_qty + validation_set_files_qty):\n",
        "                    # move given file to validation set\n",
        "                    dst_path = os.path.join(my_data_dir, 'validation', label, file_name)\n",
        "                    shutil.move(src_path, dst_path)\n",
        "                else:\n",
        "                    # move given file to test set\n",
        "                    dst_path = os.path.join(my_data_dir, 'test', label, file_name)\n",
        "                    shutil.move(src_path, dst_path)\n",
        "                    \n",
        "                count += 1\n",
        "\n",
        "            os.rmdir(label_dir)\n",
        "\n",
        "    print(\"Dataset successfully split into train, validation, and test sets.\")"
      ]
    },
    {
      "cell_type": "code",
      "execution_count": 14,
      "metadata": {},
      "outputs": [
        {
          "name": "stdout",
          "output_type": "stream",
          "text": [
            "Dataset successfully split into train, validation, and test sets.\n"
          ]
        }
      ],
      "source": [
        "split_train_validation_test_images(my_data_dir = \"/workspace/rare-and-sweet/inputs/cherry-leaves_dataset/cherry-leaves\",\n",
        "                                   train_set_ratio = 0.7,\n",
        "                                   validation_set_ratio = 0.1,\n",
        "                                   test_set_ratio = 0.2)"
      ]
    },
    {
      "cell_type": "markdown",
      "metadata": {},
      "source": [
        "---"
      ]
    }
  ],
  "metadata": {
    "accelerator": "GPU",
    "colab": {
      "name": "Data Practitioner Jupyter Notebook.ipynb",
      "provenance": [],
      "toc_visible": true
    },
    "interpreter": {
      "hash": "8b8334dab9339717f727a1deaf837b322d7a41c20d15cc86be99a8e69ceec8ce"
    },
    "kernelspec": {
      "display_name": "Python 3.8.12 64-bit ('3.8.12': pyenv)",
      "name": "python3"
    },
    "language_info": {
      "codemirror_mode": {
        "name": "ipython",
        "version": 3
      },
      "file_extension": ".py",
      "mimetype": "text/x-python",
      "name": "python",
      "nbconvert_exporter": "python",
      "pygments_lexer": "ipython3",
      "version": "3.8.18"
    },
    "orig_nbformat": 2
  },
  "nbformat": 4,
  "nbformat_minor": 2
}
