{
  "cells": [
    {
      "cell_type": "markdown",
      "metadata": {
        "id": "0aStgWSO0E0E"
      },
      "source": [
        "# **Data Collection**"
      ]
    },
    {
      "cell_type": "markdown",
      "metadata": {
        "id": "1eLEkw5O0ECa"
      },
      "source": [
        "## Introduction\n",
        "\n",
        "This notebook is designed to collect and prepare a dataset from Kaggle, ensuring that it is ready for further analysis or model training. The dataset we are working with is sourced from Kaggle and is titled **\"Cherry Leaves - Healthy or Powdery Mildew\"**.\n",
        "\n",
        "### Dataset Description:\n",
        "- **Dataset Name**: Cherry Leaves - Healthy or Powdery Mildew\n",
        "- **Source**: [Kaggle Dataset](https://www.kaggle.com/datasets/codeinstitute/cherry-leaves)\n",
        "- **Description**: This dataset contains images of cherry leaves, categorized into two classes: \n",
        "  1. **Healthy**: Images of cherry leaves without any disease.\n",
        "  2. **Powdery Mildew**: Images of cherry leaves affected by powdery mildew, a fungal disease.\n",
        "- **Purpose**: The dataset can be used for training models to detect and classify the health status of cherry leaves, which is particularly useful in agricultural and plant disease research.\n",
        "\n",
        "### Objectives\n",
        "\n",
        "This notebook will perform the following tasks:\n",
        "1. **Install Necessary Packages**:\n",
        "   - Install the Kaggle package to enable downloading datasets directly from Kaggle.\n",
        "   - Set up the environment to use the Kaggle API securely.\n",
        "\n",
        "2. **Download the Dataset**:\n",
        "   - Authenticate with Kaggle using a JSON file containing your API credentials.\n",
        "   - Download the specified dataset (`codeinstitute/cherry-leaves`) and save it to a designated directory.\n",
        "\n",
        "3. **Prepare the Dataset**:\n",
        "   - **Unzip the Dataset**: Extract the contents of the downloaded zip file and remove the zip file to save space.\n",
        "   - **Data Cleaning**: Ensure that the dataset only contains valid image files by removing any non-image files.\n",
        "   - **Split the Dataset**: Divide the dataset into training, validation, and test sets with specified ratios (e.g., 70% train, 10% validation, 20% test).\n",
        "\n",
        "4. **Verification**:\n",
        "   - After the dataset is prepared and split, verify that the files are correctly categorized into the appropriate directories.\n",
        "\n",
        "## Inputs\n",
        "\n",
        "- **Kaggle JSON file**: A file containing your authentication token, necessary for accessing Kaggle's API.\n",
        "\n",
        "## Outputs\n",
        "\n",
        "- **Dataset Directory**: A structured directory containing the dataset split into train, validation, and test subsets (`inputs/cherry-leaves_dataset`).\n",
        "\n",
        "## Additional Comments\n",
        "\n",
        "* The client has supplied the data under a non-disclosure agreement (NDA), meaning it can only be shared with professionals directly involved in the project. The dataset pertains to binary image classification, specifically differentiating between healthy cherry leaves and those affected by powdery mildew.\n"
      ]
    },
    {
      "cell_type": "markdown",
      "metadata": {
        "id": "9uWZXH9LwoQg"
      },
      "source": [
        "---"
      ]
    },
    {
      "cell_type": "markdown",
      "metadata": {
        "id": "cqP-UeN-z3i2"
      },
      "source": [
        "# Import packages\n"
      ]
    },
    {
      "cell_type": "code",
      "execution_count": 1,
      "metadata": {},
      "outputs": [
        {
          "name": "stdout",
          "output_type": "stream",
          "text": [
            "Requirement already satisfied: numpy in /workspace/.pip-modules/lib/python3.8/site-packages (from -r /workspace/rare-and-sweet//requirements.txt (line 1)) (1.19.2)\n",
            "Requirement already satisfied: pandas in /workspace/.pip-modules/lib/python3.8/site-packages (from -r /workspace/rare-and-sweet//requirements.txt (line 2)) (1.1.2)\n",
            "Requirement already satisfied: matplotlib in /workspace/.pip-modules/lib/python3.8/site-packages (from -r /workspace/rare-and-sweet//requirements.txt (line 3)) (3.3.1)\n",
            "Requirement already satisfied: seaborn in /workspace/.pip-modules/lib/python3.8/site-packages (from -r /workspace/rare-and-sweet//requirements.txt (line 4)) (0.11.0)\n",
            "Requirement already satisfied: plotly in /workspace/.pip-modules/lib/python3.8/site-packages (from -r /workspace/rare-and-sweet//requirements.txt (line 5)) (4.12.0)\n",
            "Requirement already satisfied: streamlit in /workspace/.pip-modules/lib/python3.8/site-packages (from -r /workspace/rare-and-sweet//requirements.txt (line 7)) (0.85.0)\n",
            "Requirement already satisfied: scikit-learn in /workspace/.pip-modules/lib/python3.8/site-packages (from -r /workspace/rare-and-sweet//requirements.txt (line 9)) (0.24.2)\n",
            "Requirement already satisfied: tensorflow-cpu in /workspace/.pip-modules/lib/python3.8/site-packages (from -r /workspace/rare-and-sweet//requirements.txt (line 10)) (2.6.0)\n",
            "Requirement already satisfied: keras in /workspace/.pip-modules/lib/python3.8/site-packages (from -r /workspace/rare-and-sweet//requirements.txt (line 11)) (2.6.0)\n",
            "Requirement already satisfied: python-dateutil>=2.7.3 in /home/gitpod/.pyenv/versions/3.8.18/lib/python3.8/site-packages (from pandas->-r /workspace/rare-and-sweet//requirements.txt (line 2)) (2.9.0.post0)\n",
            "Requirement already satisfied: pytz>=2017.2 in /home/gitpod/.pyenv/versions/3.8.18/lib/python3.8/site-packages (from pandas->-r /workspace/rare-and-sweet//requirements.txt (line 2)) (2024.1)\n",
            "Requirement already satisfied: certifi>=2020.06.20 in /home/gitpod/.pyenv/versions/3.8.18/lib/python3.8/site-packages (from matplotlib->-r /workspace/rare-and-sweet//requirements.txt (line 3)) (2024.7.4)\n",
            "Requirement already satisfied: cycler>=0.10 in /workspace/.pip-modules/lib/python3.8/site-packages (from matplotlib->-r /workspace/rare-and-sweet//requirements.txt (line 3)) (0.12.1)\n",
            "Requirement already satisfied: kiwisolver>=1.0.1 in /workspace/.pip-modules/lib/python3.8/site-packages (from matplotlib->-r /workspace/rare-and-sweet//requirements.txt (line 3)) (1.4.5)\n",
            "Requirement already satisfied: pillow>=6.2.0 in /workspace/.pip-modules/lib/python3.8/site-packages (from matplotlib->-r /workspace/rare-and-sweet//requirements.txt (line 3)) (10.4.0)\n",
            "Requirement already satisfied: pyparsing!=2.0.4,!=2.1.2,!=2.1.6,>=2.0.3 in /workspace/.pip-modules/lib/python3.8/site-packages (from matplotlib->-r /workspace/rare-and-sweet//requirements.txt (line 3)) (3.1.2)\n",
            "Requirement already satisfied: scipy>=1.0 in /workspace/.pip-modules/lib/python3.8/site-packages (from seaborn->-r /workspace/rare-and-sweet//requirements.txt (line 4)) (1.9.3)\n",
            "Requirement already satisfied: retrying>=1.3.3 in /workspace/.pip-modules/lib/python3.8/site-packages (from plotly->-r /workspace/rare-and-sweet//requirements.txt (line 5)) (1.3.4)\n",
            "Requirement already satisfied: six in /workspace/.pip-modules/lib/python3.8/site-packages (from plotly->-r /workspace/rare-and-sweet//requirements.txt (line 5)) (1.15.0)\n",
            "Requirement already satisfied: altair>=3.2.0 in /workspace/.pip-modules/lib/python3.8/site-packages (from streamlit->-r /workspace/rare-and-sweet//requirements.txt (line 7)) (4.2.2)\n",
            "Requirement already satisfied: astor in /workspace/.pip-modules/lib/python3.8/site-packages (from streamlit->-r /workspace/rare-and-sweet//requirements.txt (line 7)) (0.8.1)\n",
            "Requirement already satisfied: attrs in /home/gitpod/.pyenv/versions/3.8.18/lib/python3.8/site-packages (from streamlit->-r /workspace/rare-and-sweet//requirements.txt (line 7)) (24.2.0)\n",
            "Requirement already satisfied: base58 in /workspace/.pip-modules/lib/python3.8/site-packages (from streamlit->-r /workspace/rare-and-sweet//requirements.txt (line 7)) (2.1.1)\n",
            "Requirement already satisfied: blinker in /workspace/.pip-modules/lib/python3.8/site-packages (from streamlit->-r /workspace/rare-and-sweet//requirements.txt (line 7)) (1.8.2)\n",
            "Requirement already satisfied: cachetools>=4.0 in /workspace/.pip-modules/lib/python3.8/site-packages (from streamlit->-r /workspace/rare-and-sweet//requirements.txt (line 7)) (5.4.0)\n",
            "Requirement already satisfied: click<8.0,>=7.0 in /workspace/.pip-modules/lib/python3.8/site-packages (from streamlit->-r /workspace/rare-and-sweet//requirements.txt (line 7)) (7.1.2)\n",
            "Requirement already satisfied: packaging in /home/gitpod/.pyenv/versions/3.8.18/lib/python3.8/site-packages (from streamlit->-r /workspace/rare-and-sweet//requirements.txt (line 7)) (24.1)\n",
            "Requirement already satisfied: protobuf!=3.11,>=3.6.0 in /workspace/.pip-modules/lib/python3.8/site-packages (from streamlit->-r /workspace/rare-and-sweet//requirements.txt (line 7)) (3.20.0)\n",
            "Requirement already satisfied: pyarrow in /workspace/.pip-modules/lib/python3.8/site-packages (from streamlit->-r /workspace/rare-and-sweet//requirements.txt (line 7)) (17.0.0)\n",
            "Requirement already satisfied: pydeck>=0.1.dev5 in /workspace/.pip-modules/lib/python3.8/site-packages (from streamlit->-r /workspace/rare-and-sweet//requirements.txt (line 7)) (0.9.1)\n",
            "Requirement already satisfied: requests in /home/gitpod/.pyenv/versions/3.8.18/lib/python3.8/site-packages (from streamlit->-r /workspace/rare-and-sweet//requirements.txt (line 7)) (2.32.3)\n",
            "Requirement already satisfied: toml in /workspace/.pip-modules/lib/python3.8/site-packages (from streamlit->-r /workspace/rare-and-sweet//requirements.txt (line 7)) (0.10.2)\n",
            "Requirement already satisfied: tornado>=5.0 in /home/gitpod/.pyenv/versions/3.8.18/lib/python3.8/site-packages (from streamlit->-r /workspace/rare-and-sweet//requirements.txt (line 7)) (6.4.1)\n",
            "Requirement already satisfied: tzlocal in /workspace/.pip-modules/lib/python3.8/site-packages (from streamlit->-r /workspace/rare-and-sweet//requirements.txt (line 7)) (5.2)\n",
            "Requirement already satisfied: validators in /workspace/.pip-modules/lib/python3.8/site-packages (from streamlit->-r /workspace/rare-and-sweet//requirements.txt (line 7)) (0.33.0)\n",
            "Requirement already satisfied: gitpython in /workspace/.pip-modules/lib/python3.8/site-packages (from streamlit->-r /workspace/rare-and-sweet//requirements.txt (line 7)) (3.1.43)\n",
            "Requirement already satisfied: watchdog in /workspace/.pip-modules/lib/python3.8/site-packages (from streamlit->-r /workspace/rare-and-sweet//requirements.txt (line 7)) (4.0.2)\n",
            "Requirement already satisfied: joblib>=0.11 in /workspace/.pip-modules/lib/python3.8/site-packages (from scikit-learn->-r /workspace/rare-and-sweet//requirements.txt (line 9)) (1.4.2)\n",
            "Requirement already satisfied: threadpoolctl>=2.0.0 in /workspace/.pip-modules/lib/python3.8/site-packages (from scikit-learn->-r /workspace/rare-and-sweet//requirements.txt (line 9)) (3.5.0)\n",
            "Requirement already satisfied: absl-py~=0.10 in /workspace/.pip-modules/lib/python3.8/site-packages (from tensorflow-cpu->-r /workspace/rare-and-sweet//requirements.txt (line 10)) (0.15.0)\n",
            "Requirement already satisfied: astunparse~=1.6.3 in /workspace/.pip-modules/lib/python3.8/site-packages (from tensorflow-cpu->-r /workspace/rare-and-sweet//requirements.txt (line 10)) (1.6.3)\n",
            "Requirement already satisfied: clang~=5.0 in /workspace/.pip-modules/lib/python3.8/site-packages (from tensorflow-cpu->-r /workspace/rare-and-sweet//requirements.txt (line 10)) (5.0)\n",
            "Requirement already satisfied: flatbuffers~=1.12.0 in /workspace/.pip-modules/lib/python3.8/site-packages (from tensorflow-cpu->-r /workspace/rare-and-sweet//requirements.txt (line 10)) (1.12)\n",
            "Requirement already satisfied: google-pasta~=0.2 in /workspace/.pip-modules/lib/python3.8/site-packages (from tensorflow-cpu->-r /workspace/rare-and-sweet//requirements.txt (line 10)) (0.2.0)\n",
            "Requirement already satisfied: h5py~=3.1.0 in /workspace/.pip-modules/lib/python3.8/site-packages (from tensorflow-cpu->-r /workspace/rare-and-sweet//requirements.txt (line 10)) (3.1.0)\n",
            "Requirement already satisfied: keras-preprocessing~=1.1.2 in /workspace/.pip-modules/lib/python3.8/site-packages (from tensorflow-cpu->-r /workspace/rare-and-sweet//requirements.txt (line 10)) (1.1.2)\n",
            "Requirement already satisfied: opt-einsum~=3.3.0 in /workspace/.pip-modules/lib/python3.8/site-packages (from tensorflow-cpu->-r /workspace/rare-and-sweet//requirements.txt (line 10)) (3.3.0)\n",
            "Requirement already satisfied: termcolor~=1.1.0 in /workspace/.pip-modules/lib/python3.8/site-packages (from tensorflow-cpu->-r /workspace/rare-and-sweet//requirements.txt (line 10)) (1.1.0)\n",
            "Requirement already satisfied: typing-extensions~=3.7.4 in /workspace/.pip-modules/lib/python3.8/site-packages (from tensorflow-cpu->-r /workspace/rare-and-sweet//requirements.txt (line 10)) (3.7.4.3)\n",
            "Requirement already satisfied: wheel~=0.35 in /home/gitpod/.pyenv/versions/3.8.18/lib/python3.8/site-packages (from tensorflow-cpu->-r /workspace/rare-and-sweet//requirements.txt (line 10)) (0.44.0)\n",
            "Requirement already satisfied: wrapt~=1.12.1 in /workspace/.pip-modules/lib/python3.8/site-packages (from tensorflow-cpu->-r /workspace/rare-and-sweet//requirements.txt (line 10)) (1.12.1)\n",
            "Requirement already satisfied: gast==0.4.0 in /workspace/.pip-modules/lib/python3.8/site-packages (from tensorflow-cpu->-r /workspace/rare-and-sweet//requirements.txt (line 10)) (0.4.0)\n",
            "Requirement already satisfied: tensorboard~=2.6 in /workspace/.pip-modules/lib/python3.8/site-packages (from tensorflow-cpu->-r /workspace/rare-and-sweet//requirements.txt (line 10)) (2.14.0)\n",
            "Requirement already satisfied: tensorflow-estimator~=2.6 in /workspace/.pip-modules/lib/python3.8/site-packages (from tensorflow-cpu->-r /workspace/rare-and-sweet//requirements.txt (line 10)) (2.15.0)\n",
            "Requirement already satisfied: grpcio<2.0,>=1.37.0 in /workspace/.pip-modules/lib/python3.8/site-packages (from tensorflow-cpu->-r /workspace/rare-and-sweet//requirements.txt (line 10)) (1.65.4)\n",
            "Requirement already satisfied: entrypoints in /workspace/.pip-modules/lib/python3.8/site-packages (from altair>=3.2.0->streamlit->-r /workspace/rare-and-sweet//requirements.txt (line 7)) (0.4)\n",
            "Requirement already satisfied: jinja2 in /home/gitpod/.pyenv/versions/3.8.18/lib/python3.8/site-packages (from altair>=3.2.0->streamlit->-r /workspace/rare-and-sweet//requirements.txt (line 7)) (3.1.4)\n",
            "Requirement already satisfied: jsonschema>=3.0 in /home/gitpod/.pyenv/versions/3.8.18/lib/python3.8/site-packages (from altair>=3.2.0->streamlit->-r /workspace/rare-and-sweet//requirements.txt (line 7)) (4.23.0)\n",
            "Requirement already satisfied: toolz in /workspace/.pip-modules/lib/python3.8/site-packages (from altair>=3.2.0->streamlit->-r /workspace/rare-and-sweet//requirements.txt (line 7)) (0.12.1)\n",
            "Requirement already satisfied: google-auth<3,>=1.6.3 in /workspace/.pip-modules/lib/python3.8/site-packages (from tensorboard~=2.6->tensorflow-cpu->-r /workspace/rare-and-sweet//requirements.txt (line 10)) (2.33.0)\n",
            "Requirement already satisfied: google-auth-oauthlib<1.1,>=0.5 in /workspace/.pip-modules/lib/python3.8/site-packages (from tensorboard~=2.6->tensorflow-cpu->-r /workspace/rare-and-sweet//requirements.txt (line 10)) (1.0.0)\n",
            "Requirement already satisfied: markdown>=2.6.8 in /workspace/.pip-modules/lib/python3.8/site-packages (from tensorboard~=2.6->tensorflow-cpu->-r /workspace/rare-and-sweet//requirements.txt (line 10)) (3.6)\n",
            "Requirement already satisfied: setuptools>=41.0.0 in /home/gitpod/.pyenv/versions/3.8.18/lib/python3.8/site-packages (from tensorboard~=2.6->tensorflow-cpu->-r /workspace/rare-and-sweet//requirements.txt (line 10)) (72.1.0)\n",
            "Requirement already satisfied: tensorboard-data-server<0.8.0,>=0.7.0 in /workspace/.pip-modules/lib/python3.8/site-packages (from tensorboard~=2.6->tensorflow-cpu->-r /workspace/rare-and-sweet//requirements.txt (line 10)) (0.7.2)\n",
            "Requirement already satisfied: werkzeug>=1.0.1 in /workspace/.pip-modules/lib/python3.8/site-packages (from tensorboard~=2.6->tensorflow-cpu->-r /workspace/rare-and-sweet//requirements.txt (line 10)) (3.0.3)\n",
            "Requirement already satisfied: charset-normalizer<4,>=2 in /home/gitpod/.pyenv/versions/3.8.18/lib/python3.8/site-packages (from requests->streamlit->-r /workspace/rare-and-sweet//requirements.txt (line 7)) (3.3.2)\n",
            "Requirement already satisfied: idna<4,>=2.5 in /home/gitpod/.pyenv/versions/3.8.18/lib/python3.8/site-packages (from requests->streamlit->-r /workspace/rare-and-sweet//requirements.txt (line 7)) (3.7)\n",
            "Requirement already satisfied: urllib3<3,>=1.21.1 in /home/gitpod/.pyenv/versions/3.8.18/lib/python3.8/site-packages (from requests->streamlit->-r /workspace/rare-and-sweet//requirements.txt (line 7)) (2.2.2)\n",
            "Requirement already satisfied: gitdb<5,>=4.0.1 in /workspace/.pip-modules/lib/python3.8/site-packages (from gitpython->streamlit->-r /workspace/rare-and-sweet//requirements.txt (line 7)) (4.0.11)\n",
            "Requirement already satisfied: backports.zoneinfo in /workspace/.pip-modules/lib/python3.8/site-packages (from tzlocal->streamlit->-r /workspace/rare-and-sweet//requirements.txt (line 7)) (0.2.1)\n",
            "Requirement already satisfied: smmap<6,>=3.0.1 in /workspace/.pip-modules/lib/python3.8/site-packages (from gitdb<5,>=4.0.1->gitpython->streamlit->-r /workspace/rare-and-sweet//requirements.txt (line 7)) (5.0.1)\n",
            "Requirement already satisfied: pyasn1-modules>=0.2.1 in /workspace/.pip-modules/lib/python3.8/site-packages (from google-auth<3,>=1.6.3->tensorboard~=2.6->tensorflow-cpu->-r /workspace/rare-and-sweet//requirements.txt (line 10)) (0.4.0)\n",
            "Requirement already satisfied: rsa<5,>=3.1.4 in /workspace/.pip-modules/lib/python3.8/site-packages (from google-auth<3,>=1.6.3->tensorboard~=2.6->tensorflow-cpu->-r /workspace/rare-and-sweet//requirements.txt (line 10)) (4.9)\n",
            "Requirement already satisfied: requests-oauthlib>=0.7.0 in /workspace/.pip-modules/lib/python3.8/site-packages (from google-auth-oauthlib<1.1,>=0.5->tensorboard~=2.6->tensorflow-cpu->-r /workspace/rare-and-sweet//requirements.txt (line 10)) (2.0.0)\n",
            "Requirement already satisfied: MarkupSafe>=2.0 in /home/gitpod/.pyenv/versions/3.8.18/lib/python3.8/site-packages (from jinja2->altair>=3.2.0->streamlit->-r /workspace/rare-and-sweet//requirements.txt (line 7)) (2.1.5)\n",
            "Requirement already satisfied: importlib-resources>=1.4.0 in /home/gitpod/.pyenv/versions/3.8.18/lib/python3.8/site-packages (from jsonschema>=3.0->altair>=3.2.0->streamlit->-r /workspace/rare-and-sweet//requirements.txt (line 7)) (6.4.0)\n",
            "Requirement already satisfied: jsonschema-specifications>=2023.03.6 in /home/gitpod/.pyenv/versions/3.8.18/lib/python3.8/site-packages (from jsonschema>=3.0->altair>=3.2.0->streamlit->-r /workspace/rare-and-sweet//requirements.txt (line 7)) (2023.12.1)\n",
            "Requirement already satisfied: pkgutil-resolve-name>=1.3.10 in /home/gitpod/.pyenv/versions/3.8.18/lib/python3.8/site-packages (from jsonschema>=3.0->altair>=3.2.0->streamlit->-r /workspace/rare-and-sweet//requirements.txt (line 7)) (1.3.10)\n",
            "Requirement already satisfied: referencing>=0.28.4 in /home/gitpod/.pyenv/versions/3.8.18/lib/python3.8/site-packages (from jsonschema>=3.0->altair>=3.2.0->streamlit->-r /workspace/rare-and-sweet//requirements.txt (line 7)) (0.35.1)\n",
            "Requirement already satisfied: rpds-py>=0.7.1 in /home/gitpod/.pyenv/versions/3.8.18/lib/python3.8/site-packages (from jsonschema>=3.0->altair>=3.2.0->streamlit->-r /workspace/rare-and-sweet//requirements.txt (line 7)) (0.20.0)\n",
            "Requirement already satisfied: importlib-metadata>=4.4 in /home/gitpod/.pyenv/versions/3.8.18/lib/python3.8/site-packages (from markdown>=2.6.8->tensorboard~=2.6->tensorflow-cpu->-r /workspace/rare-and-sweet//requirements.txt (line 10)) (8.2.0)\n",
            "Requirement already satisfied: zipp>=0.5 in /home/gitpod/.pyenv/versions/3.8.18/lib/python3.8/site-packages (from importlib-metadata>=4.4->markdown>=2.6.8->tensorboard~=2.6->tensorflow-cpu->-r /workspace/rare-and-sweet//requirements.txt (line 10)) (3.20.0)\n",
            "Requirement already satisfied: pyasn1<0.7.0,>=0.4.6 in /workspace/.pip-modules/lib/python3.8/site-packages (from pyasn1-modules>=0.2.1->google-auth<3,>=1.6.3->tensorboard~=2.6->tensorflow-cpu->-r /workspace/rare-and-sweet//requirements.txt (line 10)) (0.6.0)\n",
            "Requirement already satisfied: oauthlib>=3.0.0 in /workspace/.pip-modules/lib/python3.8/site-packages (from requests-oauthlib>=0.7.0->google-auth-oauthlib<1.1,>=0.5->tensorboard~=2.6->tensorflow-cpu->-r /workspace/rare-and-sweet//requirements.txt (line 10)) (3.2.2)\n",
            "Note: you may need to restart the kernel to use updated packages.\n"
          ]
        }
      ],
      "source": [
        "%pip install -r /workspace/rare-and-sweet//requirements.txt"
      ]
    },
    {
      "cell_type": "code",
      "execution_count": 2,
      "metadata": {},
      "outputs": [],
      "source": [
        "# Import necessary libraries for data manipulation and operating system interaction\n",
        "\n",
        "import numpy\n",
        "import os"
      ]
    },
    {
      "cell_type": "markdown",
      "metadata": {},
      "source": [
        "# Change working directory"
      ]
    },
    {
      "cell_type": "code",
      "execution_count": 3,
      "metadata": {
        "id": "wZfF_j-Bz3i4",
        "outputId": "66943449-1436-4c3d-85c7-b85f9f78349b"
      },
      "outputs": [
        {
          "data": {
            "text/plain": [
              "'/workspace/rare-and-sweet/jupyter_notebooks'"
            ]
          },
          "execution_count": 3,
          "metadata": {},
          "output_type": "execute_result"
        }
      ],
      "source": [
        "# Store the current working directory\n",
        "\n",
        "import os\n",
        "current_dir = os.getcwd()\n",
        "current_dir"
      ]
    },
    {
      "cell_type": "code",
      "execution_count": 4,
      "metadata": {
        "id": "TwHsQRWjz3i9",
        "outputId": "86849db3-cd2f-4cc5-ebb8-2d0caafa1a2c"
      },
      "outputs": [
        {
          "name": "stdout",
          "output_type": "stream",
          "text": [
            "You set a new current directory\n"
          ]
        }
      ],
      "source": [
        "# Change the working directory to the parent directory and confirm the change\n",
        "\n",
        "os.chdir(os.path.dirname(current_dir))\n",
        "print(\"You set a new current directory\")"
      ]
    },
    {
      "cell_type": "code",
      "execution_count": 5,
      "metadata": {
        "id": "vz3S-_kjz3jA",
        "outputId": "00b79ae4-75d0-4a96-d193-ac9ef9847ea2"
      },
      "outputs": [
        {
          "data": {
            "text/plain": [
              "'/workspace/rare-and-sweet'"
            ]
          },
          "execution_count": 5,
          "metadata": {},
          "output_type": "execute_result"
        }
      ],
      "source": [
        "# Confirm the new working directory after the change\n",
        "\n",
        "current_dir = os.getcwd()\n",
        "current_dir"
      ]
    },
    {
      "cell_type": "markdown",
      "metadata": {},
      "source": [
        "---"
      ]
    },
    {
      "cell_type": "markdown",
      "metadata": {
        "id": "-mavJ8DibrcQ"
      },
      "source": [
        "# Section 1"
      ]
    },
    {
      "cell_type": "markdown",
      "metadata": {},
      "source": [
        "## Install Kaggle"
      ]
    },
    {
      "cell_type": "markdown",
      "metadata": {},
      "source": [
        "### Annotation:\n",
        "\n",
        "Before running this cell, it is crucial to ensure that the Kaggle JSON file, which contains your API credentials, is correctly set up in the working directory. This JSON file should be named `kaggle.json` and must contain your Kaggle username and API key. \n",
        "\n",
        "#### Important Steps:\n",
        "1. **Obtain the JSON File**: \n",
        "   - You can download your `kaggle.json` file from the \"Account\" section of your Kaggle profile under the \"API\" tab.\n",
        "\n",
        "2. **Place the JSON File**:\n",
        "   - Make sure the `kaggle.json` file is placed in the current working directory of your notebook.\n",
        "\n",
        "3. **Verify Permissions**:\n",
        "   - The cell will change the permissions of the JSON file to ensure it is secure (readable only by the user). This is an essential step to protect your credentials.\n",
        "\n",
        "If the JSON file is not correctly set up, the Kaggle API will not be able to authenticate, and any attempts to download datasets will fail.\n"
      ]
    },
    {
      "cell_type": "code",
      "execution_count": 6,
      "metadata": {},
      "outputs": [
        {
          "name": "stdout",
          "output_type": "stream",
          "text": [
            "Requirement already satisfied: kaggle in /workspace/.pip-modules/lib/python3.8/site-packages (1.6.17)\n",
            "Requirement already satisfied: six>=1.10 in /workspace/.pip-modules/lib/python3.8/site-packages (from kaggle) (1.15.0)\n",
            "Requirement already satisfied: certifi>=2023.7.22 in /home/gitpod/.pyenv/versions/3.8.18/lib/python3.8/site-packages (from kaggle) (2024.7.4)\n",
            "Requirement already satisfied: python-dateutil in /home/gitpod/.pyenv/versions/3.8.18/lib/python3.8/site-packages (from kaggle) (2.9.0.post0)\n",
            "Requirement already satisfied: requests in /home/gitpod/.pyenv/versions/3.8.18/lib/python3.8/site-packages (from kaggle) (2.32.3)\n",
            "Requirement already satisfied: tqdm in /workspace/.pip-modules/lib/python3.8/site-packages (from kaggle) (4.66.5)\n",
            "Requirement already satisfied: python-slugify in /workspace/.pip-modules/lib/python3.8/site-packages (from kaggle) (8.0.4)\n",
            "Requirement already satisfied: urllib3 in /home/gitpod/.pyenv/versions/3.8.18/lib/python3.8/site-packages (from kaggle) (2.2.2)\n",
            "Requirement already satisfied: bleach in /home/gitpod/.pyenv/versions/3.8.18/lib/python3.8/site-packages (from kaggle) (6.1.0)\n",
            "Requirement already satisfied: webencodings in /home/gitpod/.pyenv/versions/3.8.18/lib/python3.8/site-packages (from bleach->kaggle) (0.5.1)\n",
            "Requirement already satisfied: text-unidecode>=1.3 in /workspace/.pip-modules/lib/python3.8/site-packages (from python-slugify->kaggle) (1.3)\n",
            "Requirement already satisfied: charset-normalizer<4,>=2 in /home/gitpod/.pyenv/versions/3.8.18/lib/python3.8/site-packages (from requests->kaggle) (3.3.2)\n",
            "Requirement already satisfied: idna<4,>=2.5 in /home/gitpod/.pyenv/versions/3.8.18/lib/python3.8/site-packages (from requests->kaggle) (3.7)\n",
            "Note: you may need to restart the kernel to use updated packages.\n"
          ]
        }
      ],
      "source": [
        "# install kaggle package\n",
        "%pip install kaggle"
      ]
    },
    {
      "cell_type": "markdown",
      "metadata": {},
      "source": [
        "Run the cell below **to change kaggle configuration directory to current working directory and permission of kaggle authentication json**"
      ]
    },
    {
      "cell_type": "code",
      "execution_count": 7,
      "metadata": {},
      "outputs": [],
      "source": [
        "# Set Kaggle configuration directory to current working directory and secure the Kaggle JSON file by setting appropriate permissions\n",
        "\n",
        "os.environ['KAGGLE_CONFIG_DIR'] = os.getcwd()\n",
        "! chmod 600 kaggle.json"
      ]
    },
    {
      "cell_type": "markdown",
      "metadata": {},
      "source": [
        "---"
      ]
    },
    {
      "cell_type": "markdown",
      "metadata": {
        "id": "uFQo3ycuO-v6"
      },
      "source": [
        "# Section 2"
      ]
    },
    {
      "cell_type": "markdown",
      "metadata": {},
      "source": [
        "## Set Kaggle Dataset and Download it"
      ]
    },
    {
      "cell_type": "code",
      "execution_count": 8,
      "metadata": {},
      "outputs": [
        {
          "name": "stdout",
          "output_type": "stream",
          "text": [
            "Dataset URL: https://www.kaggle.com/datasets/codeinstitute/cherry-leaves\n",
            "License(s): unknown\n",
            "Downloading cherry-leaves.zip to inputs/cherry-leaves_dataset\n",
            "100%|█████████████████████████████████████▉| 55.0M/55.0M [00:02<00:00, 23.2MB/s]\n",
            "100%|██████████████████████████████████████| 55.0M/55.0M [00:02<00:00, 21.3MB/s]\n"
          ]
        }
      ],
      "source": [
        "# Download the specified dataset from Kaggle and store it in the designated folder\n",
        "\n",
        "KaggleDatasetPath = \"codeinstitute/cherry-leaves\"\n",
        "DestinationFolder = \"inputs/cherry-leaves_dataset\"\n",
        "\n",
        "!kaggle datasets download -d {KaggleDatasetPath} -p {DestinationFolder}\n"
      ]
    },
    {
      "cell_type": "markdown",
      "metadata": {},
      "source": [
        "## Unzip the downloaded file, delete the zip file"
      ]
    },
    {
      "cell_type": "code",
      "execution_count": 9,
      "metadata": {},
      "outputs": [],
      "source": [
        "# Extract the contents of the downloaded zip file and remove the zip file afterward to save space\n",
        "\n",
        "import zipfile\n",
        "with zipfile.ZipFile(DestinationFolder + '/cherry-leaves.zip', 'r') as zip_ref:\n",
        "    zip_ref.extractall(DestinationFolder)\n",
        "\n",
        "os.remove(DestinationFolder + '/cherry-leaves.zip')"
      ]
    },
    {
      "cell_type": "markdown",
      "metadata": {},
      "source": [
        "---"
      ]
    },
    {
      "cell_type": "markdown",
      "metadata": {},
      "source": [
        "# Section 3"
      ]
    },
    {
      "cell_type": "markdown",
      "metadata": {},
      "source": [
        "## Data Preparation"
      ]
    },
    {
      "cell_type": "markdown",
      "metadata": {},
      "source": [
        "### Data Cleaning"
      ]
    },
    {
      "cell_type": "markdown",
      "metadata": {},
      "source": [
        "### Check and remove non images files"
      ]
    },
    {
      "cell_type": "code",
      "execution_count": 10,
      "metadata": {},
      "outputs": [],
      "source": [
        "# Function to remove non-image files from the dataset directory\n",
        "# It counts and deletes files that do not have a valid image extension\n",
        "\n",
        "def remove_non_image_file(my_data_dir):\n",
        "    image_extensions = ('.png', '.jpg', '.jpeg')\n",
        "    \n",
        "    # List all items in the root directory\n",
        "    items = os.listdir(my_data_dir)\n",
        "    \n",
        "    for item in items:\n",
        "        folder_path = os.path.join(my_data_dir, item)\n",
        "        \n",
        "        # Ensure the item is a directory\n",
        "        if os.path.isdir(folder_path):\n",
        "            files = os.listdir(folder_path)\n",
        "            \n",
        "            image_count = 0\n",
        "            non_image_count = 0\n",
        "            \n",
        "            for given_file in files:\n",
        "                file_path = os.path.join(folder_path, given_file)\n",
        "                \n",
        "                # Check if the file has a valid image extension\n",
        "                if not given_file.lower().endswith(image_extensions):\n",
        "                    try:\n",
        "                        os.remove(file_path)  # Remove non-image file\n",
        "                        non_image_count += 1\n",
        "                    except Exception as e:\n",
        "                        print(f\"Error removing file {file_path}: {e}\")\n",
        "                else:\n",
        "                    image_count += 1\n",
        "            \n",
        "            print(f\"Folder: {item} - contains {image_count} image file(s)\")\n",
        "            print(f\"Folder: {item} - contains {non_image_count} non-image file(s)\")"
      ]
    },
    {
      "cell_type": "code",
      "execution_count": 11,
      "metadata": {},
      "outputs": [
        {
          "name": "stdout",
          "output_type": "stream",
          "text": [
            "Error removing file /workspace/rare-and-sweet/inputs/cherry-leaves_dataset/cherry-leaves/test/healthy: [Errno 21] Is a directory: '/workspace/rare-and-sweet/inputs/cherry-leaves_dataset/cherry-leaves/test/healthy'\n",
            "Error removing file /workspace/rare-and-sweet/inputs/cherry-leaves_dataset/cherry-leaves/test/powdery_mildew: [Errno 21] Is a directory: '/workspace/rare-and-sweet/inputs/cherry-leaves_dataset/cherry-leaves/test/powdery_mildew'\n",
            "Folder: test - contains 0 image file(s)\n",
            "Folder: test - contains 0 non-image file(s)\n",
            "Error removing file /workspace/rare-and-sweet/inputs/cherry-leaves_dataset/cherry-leaves/train/healthy: [Errno 21] Is a directory: '/workspace/rare-and-sweet/inputs/cherry-leaves_dataset/cherry-leaves/train/healthy'\n",
            "Error removing file /workspace/rare-and-sweet/inputs/cherry-leaves_dataset/cherry-leaves/train/powdery_mildew: [Errno 21] Is a directory: '/workspace/rare-and-sweet/inputs/cherry-leaves_dataset/cherry-leaves/train/powdery_mildew'\n",
            "Folder: train - contains 0 image file(s)\n",
            "Folder: train - contains 0 non-image file(s)\n",
            "Error removing file /workspace/rare-and-sweet/inputs/cherry-leaves_dataset/cherry-leaves/validation/healthy: [Errno 21] Is a directory: '/workspace/rare-and-sweet/inputs/cherry-leaves_dataset/cherry-leaves/validation/healthy'\n",
            "Error removing file /workspace/rare-and-sweet/inputs/cherry-leaves_dataset/cherry-leaves/validation/powdery_mildew: [Errno 21] Is a directory: '/workspace/rare-and-sweet/inputs/cherry-leaves_dataset/cherry-leaves/validation/powdery_mildew'\n",
            "Folder: validation - contains 0 image file(s)\n",
            "Folder: validation - contains 0 non-image file(s)\n",
            "Folder: healthy - contains 2104 image file(s)\n",
            "Folder: healthy - contains 0 non-image file(s)\n",
            "Folder: powdery_mildew - contains 2104 image file(s)\n",
            "Folder: powdery_mildew - contains 0 non-image file(s)\n"
          ]
        }
      ],
      "source": [
        "my_data_dir = '/workspace/rare-and-sweet/inputs/cherry-leaves_dataset/cherry-leaves'\n",
        "\n",
        "# Run the function to remove non-image files\n",
        "remove_non_image_file(my_data_dir)"
      ]
    },
    {
      "cell_type": "markdown",
      "metadata": {},
      "source": [
        "### Split train validation test set"
      ]
    },
    {
      "cell_type": "code",
      "execution_count": 12,
      "metadata": {},
      "outputs": [],
      "source": [
        "import os\n",
        "import shutil\n",
        "import random\n",
        "import joblib\n",
        "\n",
        "def split_train_validation_test_images(my_data_dir, train_set_ratio, validation_set_ratio, test_set_ratio):\n",
        "  \n",
        "    if train_set_ratio + validation_set_ratio + test_set_ratio != 1.0:\n",
        "        print(\"train_set_ratio + validation_set_ratio + test_set_ratio should sum to 1.0\")\n",
        "        return\n",
        "\n",
        "    # gets classes labels\n",
        "    labels = os.listdir(my_data_dir)\n",
        "    \n",
        "    if 'test' in labels:\n",
        "        pass\n",
        "    else: \n",
        "        # create train, test folders with class labels sub-folder\n",
        "        for folder in ['train','validation','test']:\n",
        "            for label in labels:\n",
        "                os.makedirs(os.path.join(my_data_dir, folder, label), exist_ok=True)\n",
        "\n",
        "        for label in labels:\n",
        "            label_dir = os.path.join(my_data_dir, label)\n",
        "            files = os.listdir(label_dir)\n",
        "            random.shuffle(files)\n",
        "\n",
        "            train_set_files_qty = int(len(files) * train_set_ratio)\n",
        "            validation_set_files_qty = int(len(files) * validation_set_ratio)\n",
        "\n",
        "            count = 1\n",
        "            for file_name in files:\n",
        "                src_path = os.path.join(label_dir, file_name)\n",
        "\n",
        "                if count <= train_set_files_qty:\n",
        "                    # move given file to train set\n",
        "                    dst_path = os.path.join(my_data_dir, 'train', label, file_name)\n",
        "                    shutil.move(src_path, dst_path)\n",
        "                elif count <= (train_set_files_qty + validation_set_files_qty):\n",
        "                    # move given file to validation set\n",
        "                    dst_path = os.path.join(my_data_dir, 'validation', label, file_name)\n",
        "                    shutil.move(src_path, dst_path)\n",
        "                else:\n",
        "                    # move given file to test set\n",
        "                    dst_path = os.path.join(my_data_dir, 'test', label, file_name)\n",
        "                    shutil.move(src_path, dst_path)\n",
        "                    \n",
        "                count += 1\n",
        "\n",
        "            os.rmdir(label_dir)\n",
        "\n",
        "    print(\"Dataset successfully split into train, validation, and test sets.\")"
      ]
    },
    {
      "cell_type": "code",
      "execution_count": 13,
      "metadata": {},
      "outputs": [
        {
          "name": "stdout",
          "output_type": "stream",
          "text": [
            "Dataset successfully split into train, validation, and test sets.\n"
          ]
        }
      ],
      "source": [
        "# Split the dataset into train, validation, and test sets with the specified ratios\n",
        "\n",
        "split_train_validation_test_images(my_data_dir = \"/workspace/rare-and-sweet/inputs/cherry-leaves_dataset/cherry-leaves\",\n",
        "                                   train_set_ratio = 0.7,\n",
        "                                   validation_set_ratio = 0.1,\n",
        "                                   test_set_ratio = 0.2)"
      ]
    },
    {
      "cell_type": "markdown",
      "metadata": {},
      "source": [
        "---"
      ]
    }
  ],
  "metadata": {
    "accelerator": "GPU",
    "colab": {
      "name": "Data Practitioner Jupyter Notebook.ipynb",
      "provenance": [],
      "toc_visible": true
    },
    "interpreter": {
      "hash": "8b8334dab9339717f727a1deaf837b322d7a41c20d15cc86be99a8e69ceec8ce"
    },
    "kernelspec": {
      "display_name": "Python 3.8.12 64-bit ('3.8.12': pyenv)",
      "name": "python3"
    },
    "language_info": {
      "codemirror_mode": {
        "name": "ipython",
        "version": 3
      },
      "file_extension": ".py",
      "mimetype": "text/x-python",
      "name": "python",
      "nbconvert_exporter": "python",
      "pygments_lexer": "ipython3",
      "version": "3.8.18"
    },
    "orig_nbformat": 2
  },
  "nbformat": 4,
  "nbformat_minor": 2
}
